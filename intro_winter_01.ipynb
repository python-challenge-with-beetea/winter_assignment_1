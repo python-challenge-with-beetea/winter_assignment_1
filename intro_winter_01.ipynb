{
 "cells": [
  {
   "cell_type": "markdown",
   "metadata": {},
   "source": [
    "# jupyter notebook과 Numpy\n",
    "\n",
    "## Jupyter Notebook\n",
    "\n",
    "정의 : 파이썬 코드를 작성하고 공유를 하기 위한 개발 도구로, 줄 글과 파이썬 코드를 함께 담을 수 있는 도구로서 사용\n",
    "\n",
    "Window 사용자는 '명령프롬프터' Mac, Linux 사용자는 '터미널'을 이용하여 컴퓨터에 명령을 내린다. 명령을 통해 Jupyter notebook, pandas 등을 설치하고 다양한 환경을 설정할 수 있다.\n",
    "\n",
    "**명령프롬프터 간단 사용방법 - Window 사용자 기준**\n",
    "- 현재 디렉토리에 있는 모든 파일을 알 수 있는 명령어  \n",
    "dir\n",
    "- 디렉토리 이동  \n",
    "cd  \n",
    "cd ..\n",
    "- 새로운 디렉토리 생성  \n",
    "mkdir\n",
    "\n",
    "\n",
    "### 1. Jupyter Notebook을 설치하고 실행해기\n",
    "\n",
    "1. Jupyter notebook을 사용하기 위해서 python이 필수로 설치되어야 한다.  \n",
    "*환경변수 때문에 파이썬 설치가 확인이 안되는 경우가 있는데, 이는 컴퓨터 사양마다 해결방법이 다르기 때문에 검색을 통해 각자 컴퓨터 사양에 맞는 해결방법을 찾는 수밖에 없다.*  \n",
    "  \n",
    "2. 명령프롬프트에서 pip(파이썬에서 모듈 관리해주는 것)를 사용하여 Jupyter Notebook 설치하기\n",
    "- 현재 깔려있는 library 확인  \n",
    "pip list  \n",
    "- jupyter notebook 설치하기  \n",
    "pip install jupyter  \n",
    "- jupyter notebook 가동하기  \n",
    "jupyter notebook\n",
    "3. jupyter notebook 실행하기\n",
    "오른쪽에 있는 New 버튼을 클릭 후 파이썬3 선택하기\n",
    "\n",
    "### 2. Jupyter Notebook 이용하기\n",
    "\n",
    "- 두 가지 모드  \n",
    "    - 입력 모드 (enter - 초록색 테두리): 실제로 그 셀에 입력 가능한 모드  \n",
    "    - 명령 모드 (ESC - 파란색 테두리): 셀과 셀 사이의 명령을 내려줄 수 있는 모드  \n",
    "- 두 가지 셀 모드  \n",
    "    - Code Cell (y): python3를 실행할 수 있는 Cell로 Cell의 왼쪽 숫자는 코드를 실행한 순서  \n",
    "    - Markdown Cell (m): Markdown을 작성할 수 있는 Cell    \n",
    "- 명령모드에서 Cell 추가하기  \n",
    "    - 현재 Cell에서 새로운 Cell 위에 추가 (A)  \n",
    "    - 현재 Cell에서 새로운 Cell 아래에 추가 (B)  \n",
    "- 명령모드에서 Cell 삭제하기  \n",
    "    - 필요없는 Cell 삭제 (dd)  \n",
    "- Cell 실행하기  \n",
    "    - 현재 Cell 실행 (Ctrl + Enter)   \n",
    "    - 현재 Cell 실행 및 다음 Cell로 넘어가기 (Shift + Enter)  \n",
    "\n",
    "\n",
    "### 3. Markdown 이용하기  \n",
    "\n",
    "마크다운이란 일반 텍스트로 서식이 있는 문서를 작성하는 방법\n",
    "- (#) 헤더로 '#'의 개수에 따라 헤더의 크기를 구별할 수 있다. 또한 '#'을 작성한 이후 띄어써야 헤더로 역할을 할 수 있다.\n",
    "- (* ... *, _ ... _) 이탤릭체를 만들어주는 것으로 다만 줄바꿈을 하기 위해서 띄어쓰기를 두번 해주고 엔터를 쳐야 줄바꿈을 인식한다.\n",
    "- (** ... **, __ ... __) 볼드체를 만들어준다.\n",
    "- (~ ... ~) 취소선을 만들어 준다.\n",
    "- (* ..., - ...) 순서없는 리스트를 만들어준다. \n",
    "- (1 ...) 순서있는 리스트를 만들어준다. 가장 첫 번째 순서를 기준을 따라서 리스트가 나열된다."
   ]
  },
  {
   "cell_type": "markdown",
   "metadata": {},
   "source": [
    "**느낀점**  \n",
    "*DSC블로그 PR 하면서 마크다운 양식을 사용해본 적이 있어서 마크다운 모드는 좀 더 빠르게 이해했다. 더불어 이런 형식과 코드를 동시에 적을 수 있는 주피터 노트북이라는 툴은 앞으로 배운 것을 기록하고 써내려가기 정말 적절하다고 생각한다. 예전에 공부한 것을 기록해두지 않으면 금방 휘발되어 매번 다시 찾는게 일상이었는데 이렇게 기록하면서 익혀가면 좀 더 오래 기억할 수 있고 모를 때 참고할 수 있을 것 같다.*"
   ]
  },
  {
   "cell_type": "markdown",
   "metadata": {},
   "source": [
    "## Numpy\n",
    "\n",
    "Numpy란?\n",
    "숫자 계산을 위해 많이 사용되는 파이썬 library로 속도가 느린 파이썬에서 연산을 빠르게 처리하기 위해서 구현된 library이다.\n",
    "\n",
    "### 1. 명령프롬프터 환경에서 Numpy 설치하기\n",
    "pip install numpy  \n",
    "### 2. jupyter notebook 환경에서 Numpy 모듈 불러오기"
   ]
  },
  {
   "cell_type": "code",
   "execution_count": 2,
   "metadata": {},
   "outputs": [],
   "source": [
    "import numpy as np"
   ]
  },
  {
   "cell_type": "markdown",
   "metadata": {},
   "source": [
    "### 3. Numpy 속도 비교하기"
   ]
  },
  {
   "cell_type": "markdown",
   "metadata": {},
   "source": [
    "*LIST*"
   ]
  },
  {
   "cell_type": "code",
   "execution_count": 19,
   "metadata": {},
   "outputs": [
    {
     "name": "stdout",
     "output_type": "stream",
     "text": [
      "328 µs ± 25.4 µs per loop (mean ± std. dev. of 7 runs, 1000 loops each)\n"
     ]
    }
   ],
   "source": [
    "L = range(1000)\n",
    "%timeit [i**2 for i in L]"
   ]
  },
  {
   "cell_type": "markdown",
   "metadata": {},
   "source": [
    "*NUMPY*"
   ]
  },
  {
   "cell_type": "code",
   "execution_count": 6,
   "metadata": {},
   "outputs": [
    {
     "name": "stdout",
     "output_type": "stream",
     "text": [
      "1.94 µs ± 27.6 ns per loop (mean ± std. dev. of 7 runs, 1000000 loops each)\n"
     ]
    }
   ],
   "source": [
    "N = np.arange(1000)\n",
    "%timeit N**2"
   ]
  },
  {
   "cell_type": "markdown",
   "metadata": {},
   "source": [
    "### 4. Numpy.array"
   ]
  },
  {
   "cell_type": "code",
   "execution_count": 7,
   "metadata": {},
   "outputs": [
    {
     "data": {
      "text/plain": [
       "array([1, 2, 3])"
      ]
     },
     "execution_count": 7,
     "metadata": {},
     "output_type": "execute_result"
    }
   ],
   "source": [
    "arr = np.array([1, 2, 3])\n",
    "arr"
   ]
  },
  {
   "cell_type": "code",
   "execution_count": 8,
   "metadata": {},
   "outputs": [
    {
     "data": {
      "text/plain": [
       "array([[1, 3, 3],\n",
       "       [4, 5, 6],\n",
       "       [7, 8, 9]])"
      ]
     },
     "execution_count": 8,
     "metadata": {},
     "output_type": "execute_result"
    }
   ],
   "source": [
    "arr2 = np.array([[1, 3, 3], [4, 5, 6], [7, 8, 9]])\n",
    "arr2"
   ]
  },
  {
   "cell_type": "code",
   "execution_count": 5,
   "metadata": {},
   "outputs": [
    {
     "data": {
      "text/plain": [
       "array([[[ 1,  2],\n",
       "        [ 3,  4],\n",
       "        [ 5,  6]],\n",
       "\n",
       "       [[ 7,  8],\n",
       "        [ 9, 10],\n",
       "        [11, 12]]])"
      ]
     },
     "execution_count": 5,
     "metadata": {},
     "output_type": "execute_result"
    }
   ],
   "source": [
    "arr3 = np.array([[[1, 2], [3, 4], [5, 6]], [[7, 8], [9, 10], [11, 12]]])\n",
    "arr3"
   ]
  },
  {
   "cell_type": "markdown",
   "metadata": {},
   "source": [
    "### 5. numpy의 차원"
   ]
  },
  {
   "cell_type": "code",
   "execution_count": 9,
   "metadata": {},
   "outputs": [
    {
     "data": {
      "text/plain": [
       "(3,)"
      ]
     },
     "execution_count": 9,
     "metadata": {},
     "output_type": "execute_result"
    }
   ],
   "source": [
    "arr.shape"
   ]
  },
  {
   "cell_type": "code",
   "execution_count": 10,
   "metadata": {},
   "outputs": [
    {
     "data": {
      "text/plain": [
       "(3, 3)"
      ]
     },
     "execution_count": 10,
     "metadata": {},
     "output_type": "execute_result"
    }
   ],
   "source": [
    "arr2.shape"
   ]
  },
  {
   "cell_type": "code",
   "execution_count": 6,
   "metadata": {},
   "outputs": [
    {
     "data": {
      "text/plain": [
       "(2, 3, 2)"
      ]
     },
     "execution_count": 6,
     "metadata": {},
     "output_type": "execute_result"
    }
   ],
   "source": [
    "arr3.shape"
   ]
  },
  {
   "cell_type": "markdown",
   "metadata": {},
   "source": [
    "**느낀점**  \n",
    "*Numpy는 이전에 dot product를 연산하면서 한번 사용한 적이 있어 반가웠다. 다만 아직은 행렬의 개념이 낯설어 어려운 라이브러리라고 생각한다.*"
   ]
  },
  {
   "cell_type": "markdown",
   "metadata": {},
   "source": [
    "## Numpy로 연산하기  \n",
    "  \n",
    "**시작하기 전 기초 개념**  \n",
    "- **Scalar** : 한 개의 수만으로 기술되는 물리량으로 크기만을 갖는다.\n",
    "- **Vector** : 크기와 방향성을 갖는 물리량을 나타낼 때 사용한다.\n",
    "- **Matrix** : 수 또는 문자를 직사각형 모양으로 배열하여 괄호로 묶어놓은 것을 의미하며 행렬이라고 한다.\n",
    "\n",
    "### 1. Vector와 Scalar 사이의 연산  \n",
    "벡터의 각 원소에 대해서 연산을 진행  "
   ]
  },
  {
   "cell_type": "code",
   "execution_count": 13,
   "metadata": {},
   "outputs": [
    {
     "name": "stdout",
     "output_type": "stream",
     "text": [
      "더하기 : [6 7 8]\n",
      "빼기 : [-4 -3 -2]\n",
      "곱하기 : [ 5 10 15]\n",
      "나누기 : [0.2 0.4 0.6]\n"
     ]
    }
   ],
   "source": [
    "x = np.array([1, 2, 3])\n",
    "c = 5\n",
    "\n",
    "print(\"더하기 : {}\".format(x + c))\n",
    "print(\"빼기 : {}\".format(x - c))\n",
    "print(\"곱하기 : {}\".format(x * c))\n",
    "print(\"나누기 : {}\".format(x / c))"
   ]
  },
  {
   "cell_type": "code",
   "execution_count": 7,
   "metadata": {},
   "outputs": [
    {
     "name": "stdout",
     "output_type": "stream",
     "text": [
      "더하기 : [11 14 15 20]\n",
      "빼기 : [-9 -6 -5  0]\n",
      "곱하기 : [ 10  40  50 100]\n",
      "나누기 : [0.1 0.4 0.5 1. ]\n"
     ]
    }
   ],
   "source": [
    "vec = np.array([1, 4, 5, 10])\n",
    "s = 10\n",
    "\n",
    "print(\"더하기 : {}\".format(vec + s))\n",
    "print(\"빼기 : {}\".format(vec - s))\n",
    "print(\"곱하기 : {}\".format(vec * s))\n",
    "print(\"나누기 : {}\".format(vec / s))"
   ]
  },
  {
   "cell_type": "markdown",
   "metadata": {},
   "source": [
    "### 2. Vector와 Vector 사이의 연산\n",
    "벡터와 같은 인덱스끼리 연산이 진행"
   ]
  },
  {
   "cell_type": "code",
   "execution_count": 14,
   "metadata": {},
   "outputs": [
    {
     "name": "stdout",
     "output_type": "stream",
     "text": [
      "더하기 : [ 3 12 25]\n",
      "빼기 : [ -1  -6 -15]\n",
      "곱하기 : [  2  27 100]\n",
      "나누기 : [0.5        0.33333333 0.25      ]\n"
     ]
    }
   ],
   "source": [
    "y = np.array([1, 3, 5])\n",
    "z = np.array([2, 9, 20])\n",
    "\n",
    "print(\"더하기 : {}\".format(y + z))\n",
    "print(\"빼기 : {}\".format(y - z))\n",
    "print(\"곱하기 : {}\".format(y * z))\n",
    "print(\"나누기 : {}\".format(y / z))"
   ]
  },
  {
   "cell_type": "code",
   "execution_count": 8,
   "metadata": {},
   "outputs": [
    {
     "name": "stdout",
     "output_type": "stream",
     "text": [
      "더하기 : [ 9 19 66]\n",
      "빼기 : [ -5  -9 -52]\n",
      "곱하기 : [ 14  70 413]\n",
      "나누기 : [0.28571429 0.35714286 0.11864407]\n"
     ]
    }
   ],
   "source": [
    "vec1 = np.array([2, 5, 7])\n",
    "vec2 = np.array([7, 14, 59])\n",
    "\n",
    "print(\"더하기 : {}\".format(vec1 + vec2))\n",
    "print(\"빼기 : {}\".format(vec1 - vec2))\n",
    "print(\"곱하기 : {}\".format(vec1 * vec2))\n",
    "print(\"나누기 : {}\".format(vec1 / vec2))"
   ]
  },
  {
   "cell_type": "markdown",
   "metadata": {},
   "source": [
    "### 3. Array의 Indexing\n",
    "파이썬의 리스트와 유사하게 진행된다."
   ]
  },
  {
   "cell_type": "code",
   "execution_count": 18,
   "metadata": {},
   "outputs": [
    {
     "name": "stdout",
     "output_type": "stream",
     "text": [
      "1\n",
      "12\n"
     ]
    }
   ],
   "source": [
    "W = np.array([[1, 2, 3, 4], [5, 6, 7, 8], [9, 10, 11, 12]])\n",
    "\n",
    "print(W[0, 0])\n",
    "print(W[2, 3])"
   ]
  },
  {
   "cell_type": "code",
   "execution_count": 19,
   "metadata": {},
   "outputs": [
    {
     "name": "stdout",
     "output_type": "stream",
     "text": [
      "7\n"
     ]
    }
   ],
   "source": [
    "print(W[1,2])"
   ]
  },
  {
   "cell_type": "code",
   "execution_count": 9,
   "metadata": {},
   "outputs": [
    {
     "name": "stdout",
     "output_type": "stream",
     "text": [
      "2\n",
      "0\n"
     ]
    }
   ],
   "source": [
    "Z = np.array([[2, 1, 2], [2, 4, 6], [2, 5, 0]])\n",
    "\n",
    "print(Z[0, 2])\n",
    "print(Z[2, 2])"
   ]
  },
  {
   "cell_type": "markdown",
   "metadata": {},
   "source": [
    "### 4. Array의 Slicing\n",
    "파이썬의 리스트와 유사하게 진행된다."
   ]
  },
  {
   "cell_type": "code",
   "execution_count": 20,
   "metadata": {},
   "outputs": [
    {
     "name": "stdout",
     "output_type": "stream",
     "text": [
      "[[2 3]\n",
      " [6 7]]\n"
     ]
    }
   ],
   "source": [
    "W = np.array([[1, 2, 3, 4], [5, 6, 7, 8], [9, 10, 11, 12]])\n",
    "\n",
    "print(W[0:2, 1:3])"
   ]
  },
  {
   "cell_type": "code",
   "execution_count": 21,
   "metadata": {},
   "outputs": [
    {
     "name": "stdout",
     "output_type": "stream",
     "text": [
      "[[1 2 3 4]\n",
      " [5 6 7 8]]\n"
     ]
    }
   ],
   "source": [
    "print(W[0:2,:])"
   ]
  },
  {
   "cell_type": "code",
   "execution_count": 22,
   "metadata": {},
   "outputs": [
    {
     "name": "stdout",
     "output_type": "stream",
     "text": [
      "[[ 3  4]\n",
      " [ 7  8]\n",
      " [11 12]]\n"
     ]
    }
   ],
   "source": [
    "print(W[:, 2:4])"
   ]
  },
  {
   "cell_type": "code",
   "execution_count": 11,
   "metadata": {},
   "outputs": [
    {
     "name": "stdout",
     "output_type": "stream",
     "text": [
      "[[2 1 2]\n",
      " [2 4 6]\n",
      " [2 5 0]]\n"
     ]
    }
   ],
   "source": [
    "Z = np.array([[2, 1, 2], [2, 4, 6], [2, 5, 0]])\n",
    "\n",
    "print(Z[0:3, 0:3])"
   ]
  },
  {
   "cell_type": "code",
   "execution_count": 12,
   "metadata": {},
   "outputs": [
    {
     "name": "stdout",
     "output_type": "stream",
     "text": [
      "[[2 4]\n",
      " [2 5]]\n"
     ]
    }
   ],
   "source": [
    "print(Z[1:, :2])"
   ]
  },
  {
   "cell_type": "markdown",
   "metadata": {},
   "source": [
    "### 5. Array의 Broadcasting\n",
    "Numpy가 연산을 진행하는 특수한 방법으로 같은 Type의 데이터에만 연산 적용이 가능하다.    \n",
    "1. M X N, M X 1"
   ]
  },
  {
   "cell_type": "code",
   "execution_count": 26,
   "metadata": {},
   "outputs": [
    {
     "name": "stdout",
     "output_type": "stream",
     "text": [
      "[[1 2 3]\n",
      " [5 6 7]\n",
      " [7 8 9]]\n"
     ]
    }
   ],
   "source": [
    "a = np.array([[1, 2, 3], [4, 5, 6], [7, 8, 9]])\n",
    "x = np.array([0, 1, 0])\n",
    "\n",
    "x = x[:, None] ## x를 전치\n",
    "\n",
    "print(a + x)"
   ]
  },
  {
   "cell_type": "markdown",
   "metadata": {},
   "source": [
    "2. M X N, 1 X N"
   ]
  },
  {
   "cell_type": "code",
   "execution_count": 33,
   "metadata": {},
   "outputs": [
    {
     "name": "stdout",
     "output_type": "stream",
     "text": [
      "[[ 0  2 -3]\n",
      " [ 0  5 -6]\n",
      " [ 0  8 -9]]\n"
     ]
    }
   ],
   "source": [
    "y = np.array([0, 1, -1])\n",
    "\n",
    "print(a * y)"
   ]
  },
  {
   "cell_type": "markdown",
   "metadata": {},
   "source": [
    "3. M X 1, 1 X N"
   ]
  },
  {
   "cell_type": "code",
   "execution_count": 34,
   "metadata": {},
   "outputs": [
    {
     "name": "stdout",
     "output_type": "stream",
     "text": [
      "[[ 3  1 -1]\n",
      " [ 4  2  0]\n",
      " [ 5  3  1]]\n"
     ]
    }
   ],
   "source": [
    "t = np.array([1, 2, 3])\n",
    "u = np.array([2, 0, -2])\n",
    "\n",
    "t = t[:, None]\n",
    "\n",
    "print(t + u)"
   ]
  },
  {
   "cell_type": "markdown",
   "metadata": {},
   "source": [
    "**느낀점**  \n",
    "*Numpy의 핵심 기능을 배운 시간이었다. 특히 핵심 중에 핵심은 Broadcasting은 더더욱 확실히 기억해야겠다.*"
   ]
  },
  {
   "cell_type": "markdown",
   "metadata": {},
   "source": [
    "## Numpy와 선형대수학  \n",
    "\n",
    "### 1. 영벡터(영행렬)  \n",
    "원소가 모두 0인 벡터(행렬)  \n",
    "np.zeros(dim)을 통해 생성하는데, dim은 값 혹은 튜플 형태여야 한다."
   ]
  },
  {
   "cell_type": "code",
   "execution_count": 3,
   "metadata": {},
   "outputs": [
    {
     "data": {
      "text/plain": [
       "array([0.])"
      ]
     },
     "execution_count": 3,
     "metadata": {},
     "output_type": "execute_result"
    }
   ],
   "source": [
    "np.zeros(1)"
   ]
  },
  {
   "cell_type": "code",
   "execution_count": 4,
   "metadata": {},
   "outputs": [
    {
     "data": {
      "text/plain": [
       "array([[0., 0., 0., 0., 0.],\n",
       "       [0., 0., 0., 0., 0.],\n",
       "       [0., 0., 0., 0., 0.],\n",
       "       [0., 0., 0., 0., 0.],\n",
       "       [0., 0., 0., 0., 0.]])"
      ]
     },
     "execution_count": 4,
     "metadata": {},
     "output_type": "execute_result"
    }
   ],
   "source": [
    "np.zeros([5, 5])"
   ]
  },
  {
   "cell_type": "markdown",
   "metadata": {},
   "source": [
    "### 2. 일벡터(일행렬)   \n",
    "원소가 모두 1인 벡터(행렬)  \n",
    "np.ones(dim)을 통해 생성하는데, dim은 값 혹은 튜플 형태여야 한다.  "
   ]
  },
  {
   "cell_type": "code",
   "execution_count": 5,
   "metadata": {},
   "outputs": [
    {
     "data": {
      "text/plain": [
       "array([1., 1.])"
      ]
     },
     "execution_count": 5,
     "metadata": {},
     "output_type": "execute_result"
    }
   ],
   "source": [
    "np.ones(2)"
   ]
  },
  {
   "cell_type": "code",
   "execution_count": 8,
   "metadata": {},
   "outputs": [
    {
     "data": {
      "text/plain": [
       "array([[[1., 1., 1.],\n",
       "        [1., 1., 1.],\n",
       "        [1., 1., 1.]],\n",
       "\n",
       "       [[1., 1., 1.],\n",
       "        [1., 1., 1.],\n",
       "        [1., 1., 1.]],\n",
       "\n",
       "       [[1., 1., 1.],\n",
       "        [1., 1., 1.],\n",
       "        [1., 1., 1.]]])"
      ]
     },
     "execution_count": 8,
     "metadata": {},
     "output_type": "execute_result"
    }
   ],
   "source": [
    "np.ones((3, 3, 3))"
   ]
  },
  {
   "cell_type": "markdown",
   "metadata": {},
   "source": [
    "### 3. 대각행렬  \n",
    "Main diagonal을 제외한 성분이 0인 행렬  \n",
    "np.diag(main_diagonal)을 통해 생성한다.  "
   ]
  },
  {
   "cell_type": "code",
   "execution_count": 11,
   "metadata": {},
   "outputs": [
    {
     "data": {
      "text/plain": [
       "array([[1, 0, 0],\n",
       "       [0, 4, 0],\n",
       "       [0, 0, 5]])"
      ]
     },
     "execution_count": 11,
     "metadata": {},
     "output_type": "execute_result"
    }
   ],
   "source": [
    "np.diag((1, 4, 5))"
   ]
  },
  {
   "cell_type": "markdown",
   "metadata": {},
   "source": [
    "### 4. 항등행렬  \n",
    "Main diagonal이 1인 대각행렬  \n",
    "np.eye()를 통해 생성한다.  \n",
    "기본 데이터 타입은 float이지만 데이터 타입을 정해줄 수 있다.  "
   ]
  },
  {
   "cell_type": "code",
   "execution_count": 12,
   "metadata": {},
   "outputs": [
    {
     "data": {
      "text/plain": [
       "array([[1, 0],\n",
       "       [0, 1]])"
      ]
     },
     "execution_count": 12,
     "metadata": {},
     "output_type": "execute_result"
    }
   ],
   "source": [
    "np.eye(2, dtype=int)"
   ]
  },
  {
   "cell_type": "code",
   "execution_count": 13,
   "metadata": {},
   "outputs": [
    {
     "data": {
      "text/plain": [
       "array([[1., 0., 0.],\n",
       "       [0., 1., 0.],\n",
       "       [0., 0., 1.]])"
      ]
     },
     "execution_count": 13,
     "metadata": {},
     "output_type": "execute_result"
    }
   ],
   "source": [
    "np.eye(3)"
   ]
  },
  {
   "cell_type": "markdown",
   "metadata": {},
   "source": [
    "### 5. 행렬곱  \n",
    "행렬간의 곱연산\n",
    "np.dot() or @를 사용하여 생성한다.  "
   ]
  },
  {
   "cell_type": "code",
   "execution_count": 14,
   "metadata": {},
   "outputs": [
    {
     "data": {
      "text/plain": [
       "array([[ 7, 33],\n",
       "       [14, 36]])"
      ]
     },
     "execution_count": 14,
     "metadata": {},
     "output_type": "execute_result"
    }
   ],
   "source": [
    "mat_1 = np.array([[1, 4], [2, 3]])\n",
    "mat_2 = np.array([[7, 9], [0, 6]])\n",
    "\n",
    "mat_1.dot(mat_2)"
   ]
  },
  {
   "cell_type": "code",
   "execution_count": 15,
   "metadata": {},
   "outputs": [
    {
     "data": {
      "text/plain": [
       "array([[ 7, 33],\n",
       "       [14, 36]])"
      ]
     },
     "execution_count": 15,
     "metadata": {},
     "output_type": "execute_result"
    }
   ],
   "source": [
    "mat_1 = np.array([[1, 4], [2, 3]])\n",
    "mat_2 = np.array([[7, 9], [0, 6]])\n",
    "\n",
    "mat_1 @ mat_2"
   ]
  },
  {
   "cell_type": "markdown",
   "metadata": {},
   "source": [
    "### 6. 트레이스  \n",
    "Main diagonal의 합  \n",
    "np.trace()를 사용하여 생성한다.  "
   ]
  },
  {
   "cell_type": "code",
   "execution_count": 16,
   "metadata": {},
   "outputs": [
    {
     "data": {
      "text/plain": [
       "array([[1, 2, 3],\n",
       "       [4, 5, 6],\n",
       "       [7, 8, 9]])"
      ]
     },
     "execution_count": 16,
     "metadata": {},
     "output_type": "execute_result"
    }
   ],
   "source": [
    "arr = np.array([[1, 2, 3], [4, 5, 6], [7, 8, 9]])\n",
    "\n",
    "arr"
   ]
  },
  {
   "cell_type": "code",
   "execution_count": 17,
   "metadata": {},
   "outputs": [
    {
     "data": {
      "text/plain": [
       "15"
      ]
     },
     "execution_count": 17,
     "metadata": {},
     "output_type": "execute_result"
    }
   ],
   "source": [
    "arr.trace()"
   ]
  },
  {
   "cell_type": "code",
   "execution_count": 18,
   "metadata": {},
   "outputs": [
    {
     "data": {
      "text/plain": [
       "2"
      ]
     },
     "execution_count": 18,
     "metadata": {},
     "output_type": "execute_result"
    }
   ],
   "source": [
    "np.eye(2, dtype=int).trace()"
   ]
  },
  {
   "cell_type": "markdown",
   "metadata": {},
   "source": [
    "### 7. 행렬식  \n",
    "행렬을 대표하는 값들 중 하나로, 선형 변환에서 어떤 벡터의 스케일링 척도이다. 즉 어떤 행렬에 있어서 선형 변환을 했을 때 얼마나 원벡터가 변하는가에 대해 구하는 것이다.  \n",
    "np.linalg.det()으로 계산된다.  "
   ]
  },
  {
   "cell_type": "code",
   "execution_count": 26,
   "metadata": {},
   "outputs": [],
   "source": [
    "arr_2 = np.array([[2, 3], [1, 6]])\n",
    "arr_3 = np.array([[1, 4, 7], [2, 5, 8], [3, 6, 9]])"
   ]
  },
  {
   "cell_type": "code",
   "execution_count": 27,
   "metadata": {},
   "outputs": [
    {
     "data": {
      "text/plain": [
       "9.000000000000002"
      ]
     },
     "execution_count": 27,
     "metadata": {},
     "output_type": "execute_result"
    }
   ],
   "source": [
    "np.linalg.det(arr_2)"
   ]
  },
  {
   "cell_type": "code",
   "execution_count": 28,
   "metadata": {},
   "outputs": [
    {
     "data": {
      "text/plain": [
       "0.0"
      ]
     },
     "execution_count": 28,
     "metadata": {},
     "output_type": "execute_result"
    }
   ],
   "source": [
    "np.linalg.det(arr_3)"
   ]
  },
  {
   "cell_type": "markdown",
   "metadata": {},
   "source": [
    "### 8. 역행렬  \n",
    "행렬 A에 대해 AB = BA = I(항등행렬)를 만족하는 행렬 B = A^-1  \n",
    "np.linalg.inv()으로 계산된다.  "
   ]
  },
  {
   "cell_type": "code",
   "execution_count": 30,
   "metadata": {},
   "outputs": [
    {
     "data": {
      "text/plain": [
       "array([[1, 4],\n",
       "       [2, 3]])"
      ]
     },
     "execution_count": 30,
     "metadata": {},
     "output_type": "execute_result"
    }
   ],
   "source": [
    "mat = np.array([[1, 4], [2, 3]])\n",
    "\n",
    "mat"
   ]
  },
  {
   "cell_type": "code",
   "execution_count": 31,
   "metadata": {},
   "outputs": [
    {
     "data": {
      "text/plain": [
       "array([[-0.6,  0.8],\n",
       "       [ 0.4, -0.2]])"
      ]
     },
     "execution_count": 31,
     "metadata": {},
     "output_type": "execute_result"
    }
   ],
   "source": [
    "mat_inv = np.linalg.inv(mat)\n",
    "\n",
    "mat_inv"
   ]
  },
  {
   "cell_type": "code",
   "execution_count": 32,
   "metadata": {},
   "outputs": [
    {
     "data": {
      "text/plain": [
       "array([[ 1.00000000e+00,  0.00000000e+00],\n",
       "       [-1.11022302e-16,  1.00000000e+00]])"
      ]
     },
     "execution_count": 32,
     "metadata": {},
     "output_type": "execute_result"
    }
   ],
   "source": [
    "mat @ mat_inv"
   ]
  },
  {
   "cell_type": "markdown",
   "metadata": {},
   "source": [
    "### 9. 고유값과 고유벡터(eigenvalue and eigenvector)  \n",
    "정방행렬(nxn) A에 대해 $Ax = \\lambda x$를 만족하는 상수 $\\lambda$와 x를 각각 고유값과 고유벡터라고 한다.   \n",
    "np.linalg.eig()으로 계산된다.  "
   ]
  },
  {
   "cell_type": "code",
   "execution_count": 33,
   "metadata": {},
   "outputs": [
    {
     "data": {
      "text/plain": [
       "array([[ 2,  0, -2],\n",
       "       [ 1,  1, -2],\n",
       "       [ 0,  0,  1]])"
      ]
     },
     "execution_count": 33,
     "metadata": {},
     "output_type": "execute_result"
    }
   ],
   "source": [
    "mat2 = np.array([[2, 0, -2], [1, 1, -2], [0, 0, 1]])\n",
    "\n",
    "mat2"
   ]
  },
  {
   "cell_type": "code",
   "execution_count": 34,
   "metadata": {},
   "outputs": [
    {
     "data": {
      "text/plain": [
       "(array([1., 2., 1.]),\n",
       " array([[0.        , 0.70710678, 0.89442719],\n",
       "        [1.        , 0.70710678, 0.        ],\n",
       "        [0.        , 0.        , 0.4472136 ]]))"
      ]
     },
     "execution_count": 34,
     "metadata": {},
     "output_type": "execute_result"
    }
   ],
   "source": [
    "mat3 = np.linalg.eig(mat2)\n",
    "\n",
    "mat3"
   ]
  },
  {
   "cell_type": "markdown",
   "metadata": {},
   "source": [
    "**느낀점**  \n",
    "*역행렬까지는 어느정도 이해가 되다가 고유값과 고유벡터에서 무너졌다. 선형대수학을 한번 날잡고 공부해야할 것 같다.. 그리고 이러한 시간 많이 가는 연산을 Numpy를 통해 편하고 빠르기 계산할 수 있다는 점이 Numpy의 존재 목적이라는 것을 한 번 더 상기했다.*  "
   ]
  },
  {
   "cell_type": "markdown",
   "metadata": {},
   "source": [
    "## 과제\n",
    "\n",
    "### 1. 어떤 벡터가 주어졌을 때 L2 norm을 구하는 함수 get_L2_norm()을 작성하세요  \n",
    "- **매개변수** : 1차원 벡터 (np.array)  \n",
    "- **반환값** : 인자로 주어진 벡터의 L2 Norm값 (number)\n",
    "\n",
    "**What is norm?**  \n",
    "벡터의 크기 혹은 길이를 측정하는 방법을 의미한다.  \n",
    "(예시 1) X = ([[2], [3]])  \n",
    "(예시 2) y = ([[4], [-3], [-7], [0]])\n",
    "1. L1 norm  \n",
    "벡터 모든 성분의 절대값을 더하는 것을 의미한다.  \n",
    "X의 L1 norm = |2| + |3| = 5  \n",
    "2. L2 norm\n",
    "출발점에서 도착점까지 거리를 직선거리로 측정하는 것을 의미한다.  \n",
    "x의 L2 norm = √(2)² + (3)² = √13  \n",
    "3. L∞ norm\n",
    "벡터 성분들의 절대값 중에서 가장 큰 값으로 계산되는 것을 의미한다.  \n",
    "y의 L∞ norm = |-7| = 7  \n",
    "\n",
    "norm의 기본 조건으로는..  \n",
    "1) ∥x∥ ≥ 0이고, x = 0일 때만 ∥x∥ = 0 이다.  \n",
    "2) ∥ax∥ = |a|∥x∥  \n",
    "3) ∥x + y∥ ≤ ∥x∥ + ∥y∥  "
   ]
  },
  {
   "cell_type": "code",
   "execution_count": 37,
   "metadata": {},
   "outputs": [
    {
     "name": "stdout",
     "output_type": "stream",
     "text": [
      "2.0\n"
     ]
    }
   ],
   "source": [
    "def get_L2_norm(x):\n",
    "    result = 0\n",
    "    for i in x:\n",
    "        result += i ** 2\n",
    "        return np.sqrt(result)"
   ]
  },
  {
   "cell_type": "markdown",
   "metadata": {},
   "source": [
    "**과제 1**  \n",
    "*l2 norm은 우리가 흔히 아는 직사각형의 대각선 길이를 구하는 식이었다. 그 식을 활용해서 l2 norm을 도출하는 함수를 작성해보았다.*"
   ]
  },
  {
   "cell_type": "markdown",
   "metadata": {},
   "source": [
    "### 2. 어떤 행렬이 singular matrix인지 확인하는 함수 is_singular()를 작성하세요  \n",
    "- **매개변수** : 2차원 벡터(np.array)  \n",
    "- **반환값** : 인자로 주어진 벡터가 singular하면 True, non-singular하면 False를 반환\n",
    "\n",
    "**What is singular matrix?**  \n",
    "역행렬이 존재하는 행렬을 가역행렬(Invertible matrix)이라고 하며 역행렬이 존재하지 않는 행렬을 특이행렬(Singlular matrix)라고 한다.  \n",
    "판별식이 0인 경우 특이행렬이라고 할 수 있다.  "
   ]
  },
  {
   "cell_type": "code",
   "execution_count": 48,
   "metadata": {},
   "outputs": [],
   "source": [
    "def is_singular(y):\n",
    "    if np.linalg.det(y) == 0:\n",
    "        result = True\n",
    "    else:\n",
    "        result = False\n",
    "    return result"
   ]
  },
  {
   "cell_type": "markdown",
   "metadata": {},
   "source": [
    "**과제 2**  \n",
    "*singular matrix를 잘 이해했는 지 모르겠지만 일단 행렬식 배웠던 것을 활용하여 함수를 작성해보았다.*"
   ]
  }
 ],
 "metadata": {
  "kernelspec": {
   "display_name": "Python 3",
   "language": "python",
   "name": "python3"
  },
  "language_info": {
   "codemirror_mode": {
    "name": "ipython",
    "version": 3
   },
   "file_extension": ".py",
   "mimetype": "text/x-python",
   "name": "python",
   "nbconvert_exporter": "python",
   "pygments_lexer": "ipython3",
   "version": "3.8.5"
  }
 },
 "nbformat": 4,
 "nbformat_minor": 4
}
