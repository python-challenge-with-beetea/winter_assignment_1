{
  "nbformat": 4,
  "nbformat_minor": 0,
  "metadata": {
    "colab": {
      "name": "winter_assignment_1.ipynb",
      "provenance": [],
      "authorship_tag": "ABX9TyMZ2k7gDgcWSs9TXu6Ud/9/",
      "include_colab_link": true
    },
    "kernelspec": {
      "name": "python3",
      "display_name": "Python 3"
    }
  },
  "cells": [
    {
      "cell_type": "markdown",
      "metadata": {
        "id": "view-in-github",
        "colab_type": "text"
      },
      "source": [
        "<a href=\"https://colab.research.google.com/github/zeze1004/winter_assignment_1/blob/main/winter_assignment_1.ipynb\" target=\"_parent\"><img src=\"https://colab.research.google.com/assets/colab-badge.svg\" alt=\"Open In Colab\"/></a>"
      ]
    },
    {
      "cell_type": "markdown",
      "metadata": {
        "id": "VxlxW0TzLIfp"
      },
      "source": [
        "\r\n",
        "## 과제\r\n",
        "1. 어떤 백터가 주어졌을 때 L2 norm을 구하는 함수 get_L2_norm() 작성해라.\r\n",
        "- 매개변수: 1차원 배열(np.array)\r\n",
        "- 반환값: 인자로 주어진 백터의 L2 Norm 값(number)\r\n",
        "\r\n",
        "```python\r\n",
        "def get_L2_norm(vector):\r\n",
        "  L2_norm = np.linalg.norm(vector)\r\n",
        "  print(L2_norm)\r\n",
        "\r\n",
        "get_L2_norm(vector)\r\n",
        "```\r\n"
      ]
    },
    {
      "cell_type": "code",
      "metadata": {
        "colab": {
          "base_uri": "https://localhost:8080/"
        },
        "id": "1WLQLUOvLSuD",
        "outputId": "d165d722-eed8-42b1-ffa6-27365748bd51"
      },
      "source": [
        "import numpy as np\r\n",
        "vector = np.random.randint(1,10, size=5)\r\n",
        "vector"
      ],
      "execution_count": 17,
      "outputs": [
        {
          "output_type": "execute_result",
          "data": {
            "text/plain": [
              "array([5, 8, 3, 9, 6])"
            ]
          },
          "metadata": {
            "tags": []
          },
          "execution_count": 17
        }
      ]
    },
    {
      "cell_type": "code",
      "metadata": {
        "colab": {
          "base_uri": "https://localhost:8080/"
        },
        "id": "6LOfhRJfLU8p",
        "outputId": "8c7a3b21-944b-4244-e8e2-09954c1660ca"
      },
      "source": [
        "def get_L2_norm(vector):\r\n",
        "  L2_norm = np.linalg.norm(vector, ord = 2)\r\n",
        "  print(L2_norm)\r\n",
        "\r\n",
        "get_L2_norm(vector)"
      ],
      "execution_count": 18,
      "outputs": [
        {
          "output_type": "stream",
          "text": [
            "14.66287829861518\n"
          ],
          "name": "stdout"
        }
      ]
    },
    {
      "cell_type": "markdown",
      "metadata": {
        "id": "j9_4sjXBLdBg"
      },
      "source": [
        "2. 어떤 행렬이 singular matrix인지 확인하는 함수 is_singular() 작성하시오.\r\n",
        "- 매개변수: 2차원 백터(np.array)\r\n",
        "- return: 인자로 주어진 벡터가 singular하면 true, non-singualr하면 false로 반환\r\n",
        "\r\n",
        "```python\r\n",
        "def is_singular(vector):\r\n",
        "  if np.linalg.det(vector) == 0:\r\n",
        "    print(\"is_singular\")\r\n",
        "    return Ture \r\n",
        "  else:\r\n",
        "    print(\"none_singular\")\r\n",
        "    return False\r\n",
        "```"
      ]
    },
    {
      "cell_type": "code",
      "metadata": {
        "colab": {
          "base_uri": "https://localhost:8080/"
        },
        "id": "ZlVzuHo7Lbf7",
        "outputId": "89ee3a89-c8af-4a7b-c8d5-321e4e4b4b46"
      },
      "source": [
        "vector = np.random.randint(1,10, size=(2,2))\r\n",
        "vector"
      ],
      "execution_count": 6,
      "outputs": [
        {
          "output_type": "execute_result",
          "data": {
            "text/plain": [
              "array([[8, 7],\n",
              "       [1, 1]])"
            ]
          },
          "metadata": {
            "tags": []
          },
          "execution_count": 6
        }
      ]
    },
    {
      "cell_type": "code",
      "metadata": {
        "colab": {
          "base_uri": "https://localhost:8080/"
        },
        "id": "dDqsNRw-LzWh",
        "outputId": "33e9e5af-134b-4461-bf47-050b27e4a7ca"
      },
      "source": [
        "def is_singular(vector):\r\n",
        "  if np.linalg.det(vector) == 0:\r\n",
        "    print(\"is_singular\")\r\n",
        "    return True \r\n",
        "  else:\r\n",
        "    print(\"none_singular\")\r\n",
        "    return False\r\n",
        "\r\n",
        "is_singular(vector)"
      ],
      "execution_count": 7,
      "outputs": [
        {
          "output_type": "stream",
          "text": [
            "none_singular\n"
          ],
          "name": "stdout"
        },
        {
          "output_type": "execute_result",
          "data": {
            "text/plain": [
              "False"
            ]
          },
          "metadata": {
            "tags": []
          },
          "execution_count": 7
        }
      ]
    }
  ]
}
